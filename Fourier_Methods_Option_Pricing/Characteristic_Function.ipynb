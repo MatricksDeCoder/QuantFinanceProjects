{
 "cells": [
  {
   "cell_type": "code",
   "execution_count": 9,
   "metadata": {},
   "outputs": [],
   "source": [
    "# Fourier Option Pricing: Option pricing using characteristic function \n",
    "# Import modules \n",
    "import math\n",
    "import numpy as np\n",
    "from scipy.stats import norm\n",
    "import scipy.integrate as integrate\n",
    "import matplotlib.pyplot as plt"
   ]
  },
  {
   "cell_type": "code",
   "execution_count": 10,
   "metadata": {},
   "outputs": [],
   "source": [
    "# Market, option,share dynamics and information\n",
    "r     = 0.06 # continously compounded risk free rate\n",
    "S_0   = 100  # initial stock price\n",
    "sigma = 0.3  # constant volatility of the share price\n",
    "K     = 110  # Strike price of call option\n",
    "T     = 1    # Time until maturity \n",
    "k_log = np.log(K)"
   ]
  },
  {
   "cell_type": "code",
   "execution_count": 41,
   "metadata": {},
   "outputs": [],
   "source": [
    "# Pricing functions, Fourier characteristic function aspectes, and Assumptions\n",
    "# - All of the Black Scholes Model pricing assumptions\n",
    "# Call option price -> S_0*Prob_Q_S[S_T>K] - K*exp(-r*T)*Prob_Q[S_T>K]\n",
    "\n",
    "# - Characteristic function of risk neutral probability density of share_price / ln(share_price) is applied\n",
    "# - Gil-Pelaez Theorem(used to calculate probabilities given characteristic function) is applied \n",
    "# - Gil-pelaez Prob[X<=x] = 1/2 - 1/pi(Integral[-inf,inf]Im(exp(itx*char(x)/t dt)))\n",
    "# - Im - is imaginery part complex number, char - characteristic function;  1j is imaginery number in Python\n",
    "\n",
    "# Characteristic function where M1 = ln(S) under risk neutral measure Q\n",
    "def car_M1(t):\n",
    "    return np.exp(1j*t*(np.log(S_0) + (r-0.5*sigma**2)*T )-0.5*(sigma**2)*T*t**2)\n",
    "\n",
    "# Characteristic function of price where M2= ln(S) under risk netural measure Q_S\n",
    "def car_M2(t):\n",
    "    return  np.exp(1j*t*sigma**2*T)*car_M1(t)\n",
    "\n",
    "# Estimating integral using areas of rectangles for sufficient upper bound t_max divided into N parts\n",
    "# Each small part is delta_t = t_max/N\n",
    "# Each t_k used in estimate is (k-1/2)*delta_t for repective k=1,2,3,4...N\n",
    "\n",
    "# Initialisin and calculating parameters for estimation t_max, N, t_delta\n",
    "t_max    = 20\n",
    "N        = 100\n",
    "delta_t  = t_max/N\n",
    "# The array of various t_k points\n",
    "from_1_N = np.linspace(1,N,N)\n",
    "t_k      = (from_1_N-1/2)*delta_t\n",
    "\n",
    "# To use actual value not estimate can use intergrate function intergrate(lambda x: f(x), lower_bound,upper_bound)\n",
    "\n",
    "# Approximate intergral estimates for \n",
    "first_intergral   = sum((((np.exp(-1j*t_k*k_log))*car_M2(t_k)).imag/t_k)*delta_t)\n",
    "second_intergral  = sum((((np.exp(-1j*t_k*k_log))*car_M1(t_k)).imag/t_k)*delta_t)"
   ]
  },
  {
   "cell_type": "code",
   "execution_count": 42,
   "metadata": {},
   "outputs": [
    {
     "data": {
      "text/plain": [
       "10.424100458714285"
      ]
     },
     "execution_count": 42,
     "metadata": {},
     "output_type": "execute_result"
    }
   ],
   "source": [
    "# Calculating closed-form solution for call price\n",
    "d_1 = (np.log(S_0/K) + (r+sigma**2/2)*T)/sigma*np.sqrt(T)\n",
    "d_2 = d_1 - sigma*np.sqrt(T)\n",
    "call_price_analytic = S_0*norm.cdf(d_1) - K*np.exp(-r*T)*norm.cdf(d_2)\n",
    "call_price_analytic"
   ]
  },
  {
   "cell_type": "code",
   "execution_count": 44,
   "metadata": {},
   "outputs": [
    {
     "data": {
      "text/plain": [
       "10.424100443080057"
      ]
     },
     "execution_count": 44,
     "metadata": {},
     "output_type": "execute_result"
    }
   ],
   "source": [
    "# Calculating estimate call price using characteric functions using estimated integral_with_M\n",
    "call_price_fourier = S_0*(1/2 + first_intergral/np.pi) - np.exp(-r*T)*K*(1/2 + second_intergral/np.pi)\n",
    "call_price_fourier"
   ]
  },
  {
   "cell_type": "code",
   "execution_count": null,
   "metadata": {},
   "outputs": [],
   "source": []
  },
  {
   "cell_type": "code",
   "execution_count": null,
   "metadata": {},
   "outputs": [],
   "source": []
  }
 ],
 "metadata": {
  "kernelspec": {
   "display_name": "Python 3",
   "language": "python",
   "name": "python3"
  },
  "language_info": {
   "codemirror_mode": {
    "name": "ipython",
    "version": 3
   },
   "file_extension": ".py",
   "mimetype": "text/x-python",
   "name": "python",
   "nbconvert_exporter": "python",
   "pygments_lexer": "ipython3",
   "version": "3.7.3"
  }
 },
 "nbformat": 4,
 "nbformat_minor": 2
}
