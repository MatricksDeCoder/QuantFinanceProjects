{
 "cells": [
  {
   "cell_type": "code",
   "execution_count": 88,
   "metadata": {},
   "outputs": [],
   "source": [
    "# COS Fourier cosine as alternative characterisitic function\n",
    "# Cosine allows us to calculate the greeks easier than \n",
    "# Allow us to work with payoff of instrument and underlying seperately\n",
    "# Apply Fourier-cosine expansion to f /density function of distribution\n",
    "# Generally applied to Geometric Brownian Motion dynamics\n",
    "# estimating lower and upper intergral bounds b1,b2 and other approximations in method lead to some errors"
   ]
  },
  {
   "cell_type": "code",
   "execution_count": 89,
   "metadata": {},
   "outputs": [],
   "source": [
    "# Fourier-cosine Option Pricing: Option pricing using and alternative characteristic function \n",
    "# Import modules \n",
    "import math\n",
    "import numpy as np\n",
    "from scipy.stats import norm\n",
    "import scipy.integrate as integrate\n",
    "import matplotlib.pyplot as plt"
   ]
  },
  {
   "cell_type": "code",
   "execution_count": 90,
   "metadata": {},
   "outputs": [],
   "source": [
    "# Market, option,share dynamics and information\n",
    "r     = 0.06 # continously compounded risk free rate\n",
    "S_0   = 100  # initial stock price\n",
    "sigma = 0.3  # constant volatility of the share price\n",
    "K     = 110  # Strike price of call option\n",
    "T     = 1    # Time until maturity \n"
   ]
  },
  {
   "cell_type": "code",
   "execution_count": 97,
   "metadata": {},
   "outputs": [],
   "source": [
    "# Functions that allow for pricing based on fourier-cosine \n",
    "# Define b1,b2 as the ideal bounds for intergral of option valuation\n",
    "# Define upsilon_n(c,d) the intergral over the bounds c,d of exp(s)* cos(n*pi*(s-b1)/b2-b1) ds\n",
    "# Define psi_n(c,d) the intergral over the bounds c,d of cos(n*pi*s-b1/b2-b1)\n",
    "# Apply the analytic values of the above intergrals using their formulaes below\n",
    "\n",
    "def upsilon_n(b2,b1,d,c,n):\n",
    "    npi_d     = n*np.pi*(d-b1)/(b2-b1)\n",
    "    npi_c     = n*np.pi*(c-b1)/(b2-b1)\n",
    "    cos_exp_d = np.cos(npi_d)*np.exp(d)\n",
    "    cos_exp_c = np.cos(npi_c)*np.exp(c)    \n",
    "    sin_exp_d = np.sin(npi_d)*np.exp(d)\n",
    "    sin_exp_c = np.sin(npi_c)*np.exp(c)\n",
    "    return (cos_exp_d - cos_exp_c + sin_exp_d - sin_exp_c)/(1+ n*np.pi/(b2-b1))\n",
    "\n",
    "def psi_n(b2,b1,d,c,n):    \n",
    "    if(n==0):\n",
    "        return d-c\n",
    "    else:\n",
    "        npi_d     = n*np.pi*(d-b1)/(b2-b1)\n",
    "        npi_c     = n*np.pi*(c-b1)/(b2-b1)\n",
    "        return ((b2-b1)/(n*np.pi)) * (np.sin(npi_d)-np.sin(npi_c))\n",
    "    \n",
    "# Functions for call valuation under s = ln(S/K)\n",
    "# Value call option given by see Fang http://citeseerx.ist.psu.edu/viewdoc/download?doi=10.1.1.466.267&rep=rep1&type=pdf\n",
    "# v_n sometimes written as v_k in the COS (equation)\n",
    "\n",
    "\n",
    "def v_n(K,b2,b1,n):\n",
    "    return 2*K*(upsilon_n(b2,b1,b2,0,n)-psi_n(b2,b1,b2,0,n))/(b2-b1)\n",
    "\n",
    "# characteristic function for underlying asset/share s = ln(S/K)\n",
    "def log_char_func(u,S_0,r,sigma,K,T):\n",
    "    return np.exp(1j*u*( np.log(S_0/K) + (r-sigma**2/2)*T )-(sigma**2/2)*T*(u**2))\n",
    "\n",
    "# Call price function\n",
    "def call_price(N,S_0,sigma,r,K,T,b2,b1):\n",
    "    price = v_n(K,b2,b1,0)*log_char_func(0,S_0,r,sigma,K,T)/2\n",
    "    for n in range(1,N):\n",
    "        price = price + log_char_func(n*np.pi/(b2-b1),S_0,r,sigma,K,T)*np.exp(-1j*n*np.pi*b1/(b2-1))*v_n(K,b2,b1,0)\n",
    "    return price.real*np.exp(-r*T)"
   ]
  },
  {
   "cell_type": "code",
   "execution_count": 105,
   "metadata": {},
   "outputs": [],
   "source": [
    "# Selecting integral bounds for option pricing using see Fang(2010)\n",
    "# C_i 's  are cumulant of ST which are moment like values\n",
    "L  = 10\n",
    "c1 = r   # uT ..mean of distribution ln(S/K) ?if we start at S=K the money is it reason?\n",
    "c2 = T*sigma**2   # sigma*T sigma is volatility of underlying/share\n",
    "c4 = 0\n",
    "\n",
    "b1 = c1- L*np.sqrt(c2 + np.sqrt(c4))\n",
    "b2 = c1+ L*np.sqrt(c2 + np.sqrt(c4))"
   ]
  },
  {
   "cell_type": "code",
   "execution_count": 106,
   "metadata": {},
   "outputs": [
    {
     "data": {
      "text/plain": [
       "[2086.9531909939046,\n",
       " 984.0853248909799,\n",
       " -2420.231452838926,\n",
       " 291.4023104129001,\n",
       " 1896.517863533429,\n",
       " -1097.895265077762,\n",
       " -953.2810976401413,\n",
       " 1207.823167479975,\n",
       " 144.55401199374663,\n",
       " -850.4122669062444,\n",
       " 252.64003232897656,\n",
       " 404.6062718581494,\n",
       " -297.5988159842256,\n",
       " -105.66983228691691,\n",
       " 190.4389999106719,\n",
       " -16.51888469645126,\n",
       " -82.22906282306872,\n",
       " 35.136899542089786,\n",
       " 22.761314824476,\n",
       " -21.32479908821323,\n",
       " -1.9005018991026037,\n",
       " 8.264017450096627,\n",
       " -1.8263648375559491,\n",
       " -2.160080321826778,\n",
       " 1.183159653766718,\n",
       " 0.30802200699747895,\n",
       " -0.4160026599154542,\n",
       " 0.02802129253227648,\n",
       " 0.09852215717914267,\n",
       " -0.03166084172101574,\n",
       " -0.014877679867663552,\n",
       " 0.010513133622925563,\n",
       " 0.0006337077036780702,\n",
       " -0.0022301989650510613,\n",
       " 0.0003788306814657111,\n",
       " 0.0003178743159879937,\n",
       " -0.00013238938819653336,\n",
       " -2.4190597903736528e-05,\n",
       " 2.5388011961942892e-05,\n",
       " -1.4600842010927884e-06,\n",
       " -3.275375299066156e-06,\n",
       " 8.116649387428508e-07,\n",
       " 2.663207287542127e-07,\n",
       " -1.4581835251891385e-07,\n",
       " -5.104891933536396e-09,\n",
       " 1.6780128281211838e-08,\n",
       " -2.3027328791677723e-09,\n",
       " -1.3223356591949755e-09,\n",
       " 3.917425646696519e-10,\n",
       " 2.284549860472389e-11]"
      ]
     },
     "execution_count": 106,
     "metadata": {},
     "output_type": "execute_result"
    }
   ],
   "source": [
    "# Implementing Vanilla call option pricing for various values of N in our case choose N=1,2,3...50\n",
    "COS_call_prices = [call_price(i,S_0,sigma,r,K,T,b2,b1) for i in range(1,51)]\n",
    "COS_call_prices"
   ]
  },
  {
   "cell_type": "code",
   "execution_count": 94,
   "metadata": {},
   "outputs": [
    {
     "data": {
      "text/plain": [
       "10.424100458714285"
      ]
     },
     "execution_count": 94,
     "metadata": {},
     "output_type": "execute_result"
    }
   ],
   "source": [
    "# Calculating closed-form solution for call price\n",
    "d_1 = (np.log(S_0/K) + (r+sigma**2/2)*T)/sigma*np.sqrt(T)\n",
    "d_2 = d_1 - sigma*np.sqrt(T)\n",
    "call_price_analytic = S_0*norm.cdf(d_1) - K*np.exp(-r*T)*norm.cdf(d_2)\n",
    "call_price_analytic"
   ]
  },
  {
   "cell_type": "code",
   "execution_count": 95,
   "metadata": {},
   "outputs": [
    {
     "data": {
      "image/png": "[encoded data removed]",
      "text/plain": [
       "<Figure size 432x288 with 1 Axes>"
      ]
     },
     "metadata": {
      "needs_background": "light"
     },
     "output_type": "display_data"
    }
   ],
   "source": [
    "# Plot call values against various values of N to see how it converges to value \n",
    "plt.plot([i for i in range(1,51)],COS_call_prices)\n",
    "plt.plot([i for i in range(1,51)],[call_price_analytic]*50)\n",
    "plt.xlabel(\"Different values of N\")\n",
    "plt.ylabel(\"Call Price\")\n",
    "plt.show()"
   ]
  },
  {
   "cell_type": "code",
   "execution_count": 96,
   "metadata": {},
   "outputs": [
    {
     "data": {
      "image/png": "[encoded data removed]",
      "text/plain": [
       "<Figure size 432x288 with 1 Axes>"
      ]
     },
     "metadata": {
      "needs_background": "light"
     },
     "output_type": "display_data"
    }
   ],
   "source": [
    "# Plotting the log absolute error to compare estiamtes with analytic and how fast convergence happens\n",
    "plt.plot(np.log(np.absolute(COS_call_prices-call_price_analytic)))\n",
    "plt.xlabel(\"Different values of N\")\n",
    "plt.ylabel(\"Log absolute error\")\n",
    "plt.show()\n"
   ]
  }
 ],
 "metadata": {
  "kernelspec": {
   "display_name": "Python 3",
   "language": "python",
   "name": "python3"
  },
  "language_info": {
   "codemirror_mode": {
    "name": "ipython",
    "version": 3
   },
   "file_extension": ".py",
   "mimetype": "text/x-python",
   "name": "python",
   "nbconvert_exporter": "python",
   "pygments_lexer": "ipython3",
   "version": "3.7.3"
  }
 },
 "nbformat": 4,
 "nbformat_minor": 2
}
