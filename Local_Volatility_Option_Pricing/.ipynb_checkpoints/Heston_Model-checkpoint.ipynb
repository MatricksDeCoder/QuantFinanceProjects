{
 "cells": [
  {
   "cell_type": "code",
   "execution_count": 37,
   "metadata": {},
   "outputs": [],
   "source": [
    "# Heston model is a stochastic volatility model \n",
    "# Heston model better able to capture volatility smile, markets reality\n",
    "# Pricing options that follow a Heston model\n",
    "# Heston model allows us to have a closed form characteristic solution which we can use to price e.g using Fourier\n",
    "# We will use Albrecher et al. (2007) adopted characteristic function "
   ]
  },
  {
   "cell_type": "code",
   "execution_count": 38,
   "metadata": {},
   "outputs": [],
   "source": [
    "# Heston Model Assumes Asset Prices follow the following dynamics, where W1 and W2 are standard Brownian motion\n",
    "# vt volatility follows a Cox-Ingersoll-Ross (CIR) square root process\n",
    "# ...  dS = uSdt + sqrt(vt)SdW1 vt is the volatility term (1)\n",
    "# ...  dsqrt(vt) = -Bsqrt(vt) + sigma*dW2                 (2)\n",
    "# ..where dW1 and dW1 are correlated rho                  (3)\n",
    "# Applying Itos formule to volatility(2) \n",
    "# ... dvt = kappa(theta - vt)dt + sigma*sqrt(vt)dW2"
   ]
  },
  {
   "cell_type": "code",
   "execution_count": 86,
   "metadata": {},
   "outputs": [],
   "source": [
    "# Import modules \n",
    "import math\n",
    "import numpy as np\n",
    "from scipy.stats import norm\n",
    "import scipy.integrate as integrate\n",
    "import matplotlib.pyplot as plt"
   ]
  },
  {
   "cell_type": "code",
   "execution_count": 87,
   "metadata": {},
   "outputs": [],
   "source": [
    "# Market, option,share dynamics and information\n",
    "r     = 0.03 # continously compounded risk free rate\n",
    "S_0   = 100  # initial stock price\n",
    "sigma = 0.5  # constant volatility of the share price\n",
    "\n",
    "# Stochastic volatility parameters\n",
    "v_0   = 0.06\n",
    "kappa = 9\n",
    "theta = 0.06\n",
    "rho   = -0.4\n",
    "\n",
    "# call option specific information\n",
    "K     = 105  # Strike price of call option\n",
    "k_log = np.log(K)\n",
    "T     = 0.5   # Time until maturity \n",
    "\n",
    "#Approximation information\n",
    "# Initialisin and calculating parameters for estimation t_max, N, t_delta\n",
    "t_max    = 30\n",
    "N        = 100\n",
    "delta_t  = t_max/N\n",
    "# The array of various t_k points\n",
    "from_1_N = np.linspace(1,N,N)\n",
    "t_k      = (from_1_N-1/2)*delta_t  "
   ]
  },
  {
   "cell_type": "code",
   "execution_count": 103,
   "metadata": {},
   "outputs": [],
   "source": [
    "# Characteristic function code\n",
    "# Characteristic functon of sT = log(ST) => exp(C(T;u) + D(T,u)*v_t + iu*log(S_t))  # i complex number\n",
    "# C(T,u) = riTu + theta*x[Tx - 1/a*log(1-gexp(d*r)/1-g)]\n",
    "# D(T,u) = [(1-exp(d*r))/1-gexp(d*r)]*x_\n",
    "#  x_    = b-d/2a\n",
    "# x+     = b+d/2a\n",
    "# c      = (-u**2+ui)/2\n",
    "# g      = x_/x+\n",
    "# d      = sqrt(b**2-4ac)\n",
    "# b      = kappa - rho*sigma*i*u\n",
    "# a      = sigma**2/2\n",
    "\n",
    "a   = sigma**2/2\n",
    "\n",
    "def b(u):\n",
    "    return kappa - rho*sigma*1j*u\n",
    "\n",
    "def c(u):\n",
    "    return -(u**2 + u*1j)/2\n",
    "\n",
    "def d(u):\n",
    "    return np.sqrt(b(u)**2 - 4*a*c(u))\n",
    "\n",
    "def x_minus(u):\n",
    "    return (b(u)-d(u))/(2*a)\n",
    "\n",
    "def x_plus(u):\n",
    "    return (b(u)+d(u))/(2*a)\n",
    "\n",
    "def g(u):\n",
    "    return x_minus(u)/x_plus(u)\n",
    "\n",
    "def C(u):\n",
    "    value = T*x_minus(u) - np.log((1-g(u)*np.exp(d(u)*-T))/(1-g(u)))/a\n",
    "    return r*1j*T*u + theta*kappa*value\n",
    "\n",
    "def D(u):\n",
    "    value1 = 1-np.exp(d(u)*-T)\n",
    "    value2 = 1-g(u)*np.exp(d(u)*-T)\n",
    "    return (value1/value2)*x_minus(u)\n",
    "\n",
    "def log_char(u):  #char_M1\n",
    "    return np.exp(C(u) + D(u)*v_0 + 1j*u*np.log(S_0))\n",
    "    \n",
    "# Change of measure, converting charactersitic function directly instead of direct change of measure\n",
    "# Risk neutral measure under Q_S so we can apply Gil Pelaez\n",
    "# char_S(u) = char(u-i) / char(-i)\n",
    "    \n",
    "def adj_char(u):    #char_M2\n",
    "    return log_char(u-1j) / log_char(-1j)   "
   ]
  },
  {
   "cell_type": "code",
   "execution_count": 104,
   "metadata": {},
   "outputs": [],
   "source": [
    "# Approximate intergral estimates for \n",
    "first_intergral   = sum((((np.exp(-1j*t_k*k_log))*adj_char(t_k)).imag/t_k)*delta_t)\n",
    "second_intergral  = sum((((np.exp(-1j*t_k*k_log))*log_char(t_k)).imag/t_k)*delta_t)"
   ]
  },
  {
   "cell_type": "code",
   "execution_count": 105,
   "metadata": {},
   "outputs": [
    {
     "data": {
      "text/plain": [
       "5.277344608818574"
      ]
     },
     "execution_count": 105,
     "metadata": {},
     "output_type": "execute_result"
    }
   ],
   "source": [
    "# Calculating estimate call price using characteric functions using estimated integral_with_M\n",
    "call_price = S_0*(1/2 + first_intergral/np.pi) - np.exp(-r*T)*K*(1/2 + second_intergral/np.pi)\n",
    "call_price"
   ]
  }
 ],
 "metadata": {
  "kernelspec": {
   "display_name": "Python 3",
   "language": "python",
   "name": "python3"
  },
  "language_info": {
   "codemirror_mode": {
    "name": "ipython",
    "version": 3
   },
   "file_extension": ".py",
   "mimetype": "text/x-python",
   "name": "python",
   "nbconvert_exporter": "python",
   "pygments_lexer": "ipython3",
   "version": "3.7.3"
  }
 },
 "nbformat": 4,
 "nbformat_minor": 2
}
