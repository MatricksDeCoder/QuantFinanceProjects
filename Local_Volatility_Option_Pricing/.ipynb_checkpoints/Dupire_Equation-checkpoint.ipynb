{
 "cells": [
  {
   "cell_type": "code",
   "execution_count": 59,
   "metadata": {},
   "outputs": [],
   "source": [
    "# Import modules \n",
    "import math\n",
    "import numpy as np\n",
    "from scipy.stats import norm\n",
    "from scipy.stats import ncx2 \n",
    "#ncx2 is a class for non-central chi-squared distribution\n",
    "#ncx2 takes df and nc as shape parameters\n",
    "import matplotlib.pyplot as plt"
   ]
  },
  {
   "cell_type": "code",
   "execution_count": 77,
   "metadata": {},
   "outputs": [],
   "source": [
    "# Market, option,share dynamics and information \n",
    "# Initializaton of parameters\n",
    "r     = 0.10  # continously compounded risk free rate\n",
    "S_0   = 100.0  # initial stock price\n",
    "sigma = 0.30 # constant volatility of the share price\n",
    "gamma = 0.75 # the value for the sigma(S_t, t) = sigma*S^(gamma-1) normally defined less than 1 or suing Beta/2 Beta<2\n",
    "beta  = gamma+1 #adjust between Hsu and course notes formula\n",
    "T     = 3    # Time until maturity - 3 years\n",
    "a     = 0  # continously proportional dividend rate"
   ]
  },
  {
   "cell_type": "code",
   "execution_count": 78,
   "metadata": {},
   "outputs": [
    {
     "data": {
      "text/plain": [
       "24.960667457819554"
      ]
     },
     "execution_count": 78,
     "metadata": {},
     "output_type": "execute_result"
    }
   ],
   "source": [
    "# Call price for a given strike price under CEV model\n",
    "# CEV Analytics Price Hsu is C(S_0,K,sigma,gamma) = S_0*(1-chi_cdf(2*y;z,2*x)) - K*exp(-r*T)*(1-(1-chi_cdf(2*x;z-2,2*y)))\n",
    "\n",
    "#1. Using functions in Hsu https://www.cyut.edu.tw/~finance/docs/971021.pdf applying beta\n",
    "def C_Hsu(T,K):\n",
    "    \n",
    "    kappa = 2*(r-a) / (sigma**2*(2-beta)*(np.exp((r-a)*(2-beta)*T)-1)) \n",
    "    \n",
    "    x     = kappa*S_0**(2-beta)*np.exp((r-a)*(2-beta)*T)\n",
    "    \n",
    "    y     = kappa*K**(2-beta) \n",
    "    \n",
    "    z    = 2 + 2/(2-beta)\n",
    "    \n",
    "    return S_0*np.exp(-a*T)*(1-(ncx2.cdf(2*y,z,2*x)))-K*(1-(1-ncx2.cdf(2*x,z-2,2*y)))*np.exp(-r*T)\n",
    "\n",
    "C_Hsu(T=3,K=105) #example"
   ]
  },
  {
   "cell_type": "code",
   "execution_count": 82,
   "metadata": {},
   "outputs": [
    {
     "data": {
      "text/plain": [
       "22.60054513027896"
      ]
     },
     "execution_count": 82,
     "metadata": {},
     "output_type": "execute_result"
    }
   ],
   "source": [
    "# Call price for a given strike price under CEV model\n",
    "# CEV Analytics Price Course Notes is C(S_0,K,sigma,gamma) = S_0*(1-chi_cdf(y;z,x)) - K*exp(-r*T)*(1-(1-chi_cdf(x;z-2,y)))\n",
    "#2. Using course notes function applying gamma\n",
    "\n",
    "def C_C(T,K):\n",
    "    \n",
    "    kappa = 2*(r-a) / (sigma**2*(1-gamma)*(np.exp((r-a)*(2*(1-gamma))*T)-1)) \n",
    "    \n",
    "    x     = kappa*S_0**(2*(1-gamma))*np.exp((r-a)*(2*(1-gamma))*T)\n",
    "    \n",
    "    y     = kappa*K**(2*(1-gamma)) \n",
    "    \n",
    "    z     = 2 + 1/(1-gamma)\n",
    "    \n",
    "    return S_0*np.exp(-a*T)*(1-(ncx2.cdf(y,z,x)))-K*(1-(1-ncx2.cdf(x,z-2,y)))*np.exp(-r*T)\n",
    "\n",
    "C_C(3,105) # example"
   ]
  },
  {
   "cell_type": "code",
   "execution_count": 84,
   "metadata": {},
   "outputs": [],
   "source": [
    "# Creating different strikes to test volatility \n",
    "test_strikes = np.linspace(80,120,41)"
   ]
  },
  {
   "cell_type": "code",
   "execution_count": 99,
   "metadata": {},
   "outputs": [],
   "source": [
    "# Estimating Dupire's Equation by finding estimates for partial derivatives d/dT(C(T,K)), d/dK(C(T,K)) d2/dK2(C(T,K))\n",
    "# Above are derived under assuptions density density(x,T) = rx linear function as an example\n",
    "\n",
    "# Applying d/da(f(a,b,c..)) approx f(a+h,b,c..)-f(a,b,c) / 2*h                           for small h \n",
    "# Applying d2/da2(f(a,b,c..)) approx f(a+2*h,b,c..)-2*f(a+h,b,c) + f(a,b,c) / h**2         for small h \n",
    "\n",
    "#Estimating partial derivatives\n",
    "delta_t = 0.01 #small change in t \n",
    "delta_k = 0.01 #small change in strike\n",
    "dC_dT   = (C_Hsu(T+delta_t,test_strikes) - C_Hsu(T,test_strikes)) / (2*delta_t)\n",
    "dC_dK   = (C_Hsu(T,test_strikes + delta_k) - C_Hsu(T,test_strikes)) / (2*delta_k)\n",
    "d2C_dK2 = (C_Hsu(T,test_strikes + 2*delta_k) - 2*C_Hsu(T,test_strikes+delta_k) + C_Hsu(T,test_strikes)) / delta_k**2"
   ]
  },
  {
   "cell_type": "code",
   "execution_count": 100,
   "metadata": {},
   "outputs": [],
   "source": [
    "# Estimating volatility #Dupire\n",
    "vol_estimates = (np.sqrt(2)/test_strikes)*np.sqrt((dC_dT + r*test_strikes*dC_dK)/d2C_dK2)\n",
    "\n",
    "# Volatility closed form based on sigma*S_t**(gamma-1)\n",
    "vol_estimates_closed_form = sigma*test_strikes**(gamma-1)"
   ]
  },
  {
   "cell_type": "code",
   "execution_count": 101,
   "metadata": {},
   "outputs": [
    {
     "data": {
      "text/plain": [
       "Text(0, 0.5, 'Volatility')"
      ]
     },
     "execution_count": 101,
     "metadata": {},
     "output_type": "execute_result"
    },
    {
     "data": {
      "image/png": "[encoded data removed]",
      "text/plain": [
       "<Figure size 432x288 with 1 Axes>"
      ]
     },
     "metadata": {
      "needs_background": "light"
     },
     "output_type": "display_data"
    }
   ],
   "source": [
    "# Plotting closed form with Dupire Equations\n",
    "plt.plot(test_strikes, vol_estimates, '.')\n",
    "plt.plot(test_strikes, vol_estimates_closed_form, '+')\n",
    "plt.xlabel(\"Strike Price\")\n",
    "plt.ylabel(\"Volatility\")\n"
   ]
  },
  {
   "cell_type": "code",
   "execution_count": null,
   "metadata": {},
   "outputs": [],
   "source": []
  }
 ],
 "metadata": {
  "kernelspec": {
   "display_name": "Python 3",
   "language": "python",
   "name": "python3"
  },
  "language_info": {
   "codemirror_mode": {
    "name": "ipython",
    "version": 3
   },
   "file_extension": ".py",
   "mimetype": "text/x-python",
   "name": "python",
   "nbconvert_exporter": "python",
   "pygments_lexer": "ipython3",
   "version": "3.7.3"
  }
 },
 "nbformat": 4,
 "nbformat_minor": 2
}
