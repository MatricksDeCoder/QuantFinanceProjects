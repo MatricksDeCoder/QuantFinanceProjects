{
 "cells": [
  {
   "cell_type": "code",
   "execution_count": 53,
   "metadata": {},
   "outputs": [
    {
     "name": "stdout",
     "output_type": "stream",
     "text": [
      "Successfully stored 20 random numbers in file named: 'lcg_output.txt'.\n"
     ]
    }
   ],
   "source": [
    "# Pseudo random number generation \n",
    "# Linear congruential generators \n",
    "  # are an easy way to generate random number in a sequence\n",
    "  # can be used to generate random numbers from uniform distribution\n",
    "# X(n+1) = (a*X(n) + c) mod m  generating next random number recursively where x_o is the seed or start point\n",
    "  # Above generate random numbers between 0-> m-1;\n",
    "    \n",
    "# Example generate uniform random numbers[0,1] via [0,m-1]/m and write to file \n",
    "# n = number of random numbers to generate, a,c are variables, m is the maximum value (0->m-1), x_0 seed start value\n",
    "\n",
    "# Code courtesy of and adopted from https://tonypoer.io/2016/03/23/experimenting-with-linear-congruential-generators-in-python/ \n",
    "\n",
    "\n",
    "def linear_congruent_generator(n, a, c, m, x_0):\n",
    "    \"\"\"\n",
    "    generates n random numbers between 0->m-1 using params a,c, and seed/start value x_0; writes output to txt file\n",
    "    \"\"\"\n",
    "    # counter for how many iterations we've run\n",
    "    i = 0  \n",
    "    curr_value = x_0\n",
    "    \n",
    "    # Open a file for output\n",
    "    outputFile = open(\"./Monte_Carlo_Methods_Finance/lcg_output.txt\", \"w\")\n",
    "\n",
    "    #Perfom number of iterations requested by user\n",
    "    while i < n:\n",
    "        # Store value of each iteration\n",
    "        curr_value = (a * curr_value + c) % m\n",
    "\n",
    "        #Obtain each number in U[0,1) by dividing X_i by m\n",
    "        writeValue = str(curr_value/m)\n",
    "\n",
    "        # write to output file\n",
    "        outputFile.write(writeValue + \"\\n\")\n",
    "        # print \"num: \" + \" \" + str(counter) +\":: \" + str(x_value)\n",
    "\n",
    "        i = i+1\n",
    "\n",
    "    outputFile.close()\n",
    "    print(\"Successfully stored \" + str(n) + \" random numbers in file named: 'lcg_output.txt'.\")           \n",
    "    \n",
    "# Initialize variables\n",
    "x_0  = 123456789.0         \n",
    "a    = 101427 \n",
    "c    = 321                  \n",
    "m    = 2**16 \n",
    "n    = 20\n",
    "\n",
    "linear_congruent_generator(n,a,c,m,x_0)"
   ]
  },
  {
   "cell_type": "code",
   "execution_count": 56,
   "metadata": {},
   "outputs": [
    {
     "data": {
      "text/plain": [
       "array([0.70483048, 0.47807858, 0.25281114, 0.56699283, 0.07052942,\n",
       "       0.14699387, 0.99551633, 0.07802811, 0.01038133, 0.64214187,\n",
       "       0.81913111, 0.80741977, 0.69114991, 0.79781204, 0.71492318,\n",
       "       0.81509524, 0.02507727, 0.43078555, 0.2587518 , 0.14434655])"
      ]
     },
     "execution_count": 56,
     "metadata": {},
     "output_type": "execute_result"
    }
   ],
   "source": [
    "# Generate random number from uniform distribution using scipy\n",
    "from scipy.stats import uniform\n",
    "\n",
    "uniform_array = uniform.rvs(size = 20)\n",
    "uniform_array "
   ]
  },
  {
   "cell_type": "code",
   "execution_count": 81,
   "metadata": {},
   "outputs": [
    {
     "data": {
      "text/plain": [
       "array([1.22020543, 0.65023825, 0.2914373 , 0.83700098, 0.07314013,\n",
       "       0.15898854, 5.40731301, 0.08124054, 0.01043559, 1.02761866,\n",
       "       1.70998288, 1.64724246, 1.17489925, 1.59855754, 1.25499659,\n",
       "       1.68791441, 0.02539706, 0.56349802, 0.29941976, 0.15588983])"
      ]
     },
     "execution_count": 81,
     "metadata": {},
     "output_type": "execute_result"
    }
   ],
   "source": [
    "# Generating random numbers from various distributions using the inverse transform methods \n",
    "# Theorem :If we have U ~[0,1] and for some continous CDF cumulative distribution function \n",
    "# if we set  X = F'(U) the inverse, then X is distributed the same CDF as F\n",
    "\n",
    "# Above relies on us having an inverse function of the CDF of the distribution we want to sample from\n",
    "\n",
    "# Example sampling 20 valued from exponential distribution CDF = 1- expo(lambda*x) with lambda = 1\n",
    "  # Inverse of exponential setting U = 1-exp(X) : X = -ln(1-U)/lambda\n",
    "import math\n",
    "import numpy as np\n",
    "f = np.vectorize(math.log) #normally math.log takes a sinlge scalar value we can vectorize it to take array/nparray\n",
    "X = -1*f(1-uniform_array)\n",
    "X"
   ]
  },
  {
   "cell_type": "code",
   "execution_count": 88,
   "metadata": {},
   "outputs": [
    {
     "data": {
      "text/plain": [
       "array([ 0.77107462, -2.11006109,  0.43060319,  0.04374765,  0.09468009,\n",
       "       -1.46561099, -0.82748567,  1.83154916,  0.43511084,  0.4390382 ,\n",
       "        0.50770199,  1.60117414,  1.12042219, -2.01096678,  0.34939262,\n",
       "        0.8816256 ,  0.07692431, -0.76918695,  0.01414185, -1.47878886,\n",
       "       -0.59544931, -1.9868036 , -0.56965708, -0.2951161 ,  0.9862945 ,\n",
       "        1.47840959,  1.71294904,  1.14346417,  0.77968507, -0.83927884])"
      ]
     },
     "execution_count": 88,
     "metadata": {},
     "output_type": "execute_result"
    }
   ],
   "source": [
    "# Rejection method as an improvement more reliable method than the inverse generation method \n",
    "# We want to generate random sample from distribution X with distribution f so we use another Y with distribution g to ...\n",
    "# by getting samples from an area where the two distributions overlap through the use of constant c \n",
    "# c > f/g we want to choose Y that allows us to choose the smallest possible value of c\n",
    "# 1. Generate a value u from U~[0,1]\n",
    "# 2. Generate value y from some distribution Y\n",
    "# 3. Check if u < f(y)/g(y)*c\n",
    "#    if true set X = Y\n",
    "#    else reject this value of y and repeat again\n",
    "\n",
    "# Example using rejection method to sample from the normal distribution \n",
    "# X ~ N(0,1) we use Y ~ exp(lambda)\n",
    "import math \n",
    "import numpy as np \n",
    "from scipy.stats import uniform\n",
    "\n",
    "size_samples = 100 # number of samples to generate from normal distribution\n",
    "norm_array   = [None]*size_samples\n",
    "lambda_exp   = 1\n",
    "i            = 0\n",
    "c            = math.sqrt(2*math.exp(lambda_exp) / math.pi)\n",
    "\n",
    "while i < size_samples: \n",
    "    uniform_val_1 = uniform.rvs(size =1) # generate number from uniform (here we use inbuilt scipy)\n",
    "    uniform_val_2 = uniform.rvs(size =1) \n",
    "    exp_val       = -1*math.log(uniform_val_2) / lambda_exp  #use of inverse method to generate random value exponential\n",
    "    norm_val      =  2*math.exp(-exp_val**2/2)/math.sqrt(2*math.pi) # apply y from exponential distribution to g(y) and f(y)\n",
    "    if uniform_val_1 < norm_val/c*exp_val:\n",
    "        uniform_val_3 = uniform.rvs(size=1)\n",
    "        if uniform_val_3 <0.5:\n",
    "            norm_array[i] = exp_val\n",
    "        else: \n",
    "            norm_array[i] = exp_val\n",
    "            i = i+1\n",
    "    else:\n",
    "        continue\n",
    "\n",
    "norm_array\n",
    "    \n",
    "\n",
    "# Generate 30 random sample from normal distribution N~(0,1) using inbuilt functions\n",
    "from scipy.stats import norm\n",
    "norm_array_in = norm.rvs(size = 30 )\n",
    "norm_array_in"
   ]
  },
  {
   "cell_type": "code",
   "execution_count": 91,
   "metadata": {},
   "outputs": [
    {
     "data": {
      "text/plain": [
       "array([-1.07405852,  0.45443231])"
      ]
     },
     "execution_count": 91,
     "metadata": {},
     "output_type": "execute_result"
    }
   ],
   "source": [
    "# Generating random samples from Multivariate Normal Distribution for applicaitons options, stcoks, financial assets\n",
    "# Financial assets tend to have some correlations that need to be taken into account\n",
    "# If we have X ~ MVN(0,covMatrix) \n",
    "# The covariance matrix is psotive semi-definite so there exits some L such that LL' = covMatrix L' is the transpose of L\n",
    "# X = LY where Y ~ MVN(0,I) I is the identity matrix\n",
    "# To sample from correlated Multivariate Normal first sampele from uncorrelated then find L ( Cholesky Decompostion)\n",
    "\n",
    "# Example generating multivariate normal from 2X2 i.e 2 assets\n",
    "Sigma = np.array([[1,0.5],[0.5,1]])\n",
    "L     = np.linalg.cholesky(Sigma)  # finding that special L such that LL' = Sigma\n",
    "\n",
    "uncorr_sample = norm.rvs(size = 2)  # Y which is ~MVN(0,I)\n",
    "corr_norms    = np.matmul(L,uncorr_sample) # X = LY\n",
    "corr_norms"
   ]
  },
  {
   "cell_type": "code",
   "execution_count": null,
   "metadata": {},
   "outputs": [],
   "source": []
  }
 ],
 "metadata": {
  "kernelspec": {
   "display_name": "Python 3",
   "language": "python",
   "name": "python3"
  },
  "language_info": {
   "codemirror_mode": {
    "name": "ipython",
    "version": 3
   },
   "file_extension": ".py",
   "mimetype": "text/x-python",
   "name": "python",
   "nbconvert_exporter": "python",
   "pygments_lexer": "ipython3",
   "version": "3.7.3"
  }
 },
 "nbformat": 4,
 "nbformat_minor": 2
}
