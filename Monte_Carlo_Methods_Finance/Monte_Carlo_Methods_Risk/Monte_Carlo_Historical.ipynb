{
 "cells": [
  {
   "cell_type": "code",
   "execution_count": 28,
   "metadata": {},
   "outputs": [],
   "source": [
    "# Monte Carlo Historical VAR Simulation is popular \n",
    "# It makes no parametric assumptions about the data to project what may happen\n",
    "# Makes use of past data/experience as a description of what may happen in the future\n",
    "# Requires significantly more data than parametric Monte Carlo VAR\n",
    "# Works by calculating past returns of assets of portfolio - Sampling from these returns - use results to project asset..\n",
    "# ..values into the future\n",
    "\n",
    "# Steps historical VAR models\n",
    "# 1. Source historical data of assets in portfolio (In this example will simulate our own data)\n",
    "# 2. Calculate daily returns all assets\n",
    "# 3. Randomly sample n-monthly log returns from above returns data\n",
    "# 4. Use randomly sampled log returns to grow portfolio \n",
    "# 5. Determine portfolio value at each scenario\n",
    "# 6  Determine alpha quantile of the projected values "
   ]
  },
  {
   "cell_type": "code",
   "execution_count": 29,
   "metadata": {},
   "outputs": [],
   "source": [
    "#import modules\n",
    "import numpy as np\n",
    "from scipy.stats import uniform\n",
    "from scipy.stats import norm\n",
    "import math\n",
    "import matplotlib.pyplot as plt\n",
    "np.random.seed(0)"
   ]
  },
  {
   "cell_type": "code",
   "execution_count": 30,
   "metadata": {},
   "outputs": [],
   "source": [
    "# Share information based on share dynamics example 3 stocks in portfolio\n",
    "S_0_0   = 100 # first share price starting value\n",
    "S_0_1   = 95  # second share price starting value\n",
    "S_0_2   = 50  # third share price starting value\n",
    "S_0     = np.array([[S_0_0],[S_0_1],[S_0_2]]) # array of initial start value assets in portfolio\n",
    "\n",
    "# Volatilities of each share\n",
    "sigma_0 = 0.15 # first share volatility\n",
    "sigma_1 = 0.2  # second share volatility\n",
    "sigma_2 = 0.3  # third share volatility\n",
    "sigma   = np.array([[sigma_0], [sigma_1], [sigma_2]])\n",
    "\n",
    "# Interdependancies asset values captured by correlation matrix \n",
    "corr_matrix = np.array([[1,0.2,0.4],[0.2,1,0.8],[0.4,0.8,1]])\n",
    "\n",
    "# Cholesky decomposition LL' = corr_matrix\n",
    "L = np.linalg.cholesky(corr_matrix)\n",
    "\n",
    "# General information and VAR \n",
    "r = 0.1 # risk free interest rate\n",
    "T = 1   # considering a 1 year period\n",
    "num_simulations = 10000\n",
    "alpha  = 0.05 # alpha lave 5%\n",
    "curr_portfolio_value = np.sum(S_0)"
   ]
  },
  {
   "cell_type": "code",
   "execution_count": 31,
   "metadata": {},
   "outputs": [],
   "source": [
    "# Function to generate synthetic share prices over time until final period\n",
    "def share_path(S_0,r,sigma,Z,dT):\n",
    "    \"\"\"\n",
    "    Generates share prices given some random normal values (Z) \n",
    "    with adjustment of cumsum to capture share prices over time as \n",
    "    result of individual changes up to that point\n",
    "    \"\"\"\n",
    "    return S_0*np.exp(np.cumsum((r-sigma**2/2)*dT + sigma*np.sqrt(dT)*Z,1))"
   ]
  },
  {
   "cell_type": "code",
   "execution_count": 85,
   "metadata": {},
   "outputs": [],
   "source": [
    "# Generating synthetic share data\n",
    "Z                       =  norm.rvs(size = [3,365*5])\n",
    "Z_corr                  =  np.transpose(np.matmul(L,Z))\n",
    " \n",
    "price_path              =  share_path(S_0,r,sigma,Z_historic_data,dT)\n",
    "\n",
    "hist_derived_S0         = price_path[:,-1] #share path derived starting portfolio values\n",
    "hist_derived_port_value = np.sum(hist_derived_S0) # share path derived starting portfolio value\n",
    "\n",
    "historical_log_returns  =  np.log(price_path[1:]) - np.log(price_path[0:-1])"
   ]
  },
  {
   "cell_type": "code",
   "execution_count": 88,
   "metadata": {},
   "outputs": [
    {
     "data": {
      "text/plain": [
       "0.4283833840713482"
      ]
     },
     "execution_count": 88,
     "metadata": {},
     "output_type": "execute_result"
    }
   ],
   "source": [
    "# 1. Monte Carlo VAR using historic data smapling returns from historical returns\n",
    "returns  = [None]*num_simulations\n",
    "\n",
    "# randomly sample our historical returns by generating uniform based on size of the returns\n",
    "# grow our shares using the sampled returns, calculate the new returns to be used to implement VAR\n",
    "\n",
    "for i in range(num_simulations):\n",
    "    rand_samp     = uniform.rvs(size = 3)*(len(price_path)-1)\n",
    "    rand_samp     = [int(x) for x in rand_samp]    \n",
    "    share_returns = historical_log_returns[rand_samp]\n",
    "    share_end     = hist_derived_S0 * np.exp(np.sum(share_returns,axis=0)) \n",
    "    returns[i]    = (np.sum(share_end) - hist_derived_port_value) / hist_derived_port_value\n",
    "\n",
    "returns  = np.sort(returns)\n",
    "hist_VAR = -returns[int(np.floor(alpha*num_simulations))-1]\n",
    "hist_VAR"
   ]
  },
  {
   "cell_type": "code",
   "execution_count": null,
   "metadata": {},
   "outputs": [],
   "source": []
  }
 ],
 "metadata": {
  "kernelspec": {
   "display_name": "Python 3",
   "language": "python",
   "name": "python3"
  },
  "language_info": {
   "codemirror_mode": {
    "name": "ipython",
    "version": 3
   },
   "file_extension": ".py",
   "mimetype": "text/x-python",
   "name": "python",
   "nbconvert_exporter": "python",
   "pygments_lexer": "ipython3",
   "version": "3.7.3"
  }
 },
 "nbformat": 4,
 "nbformat_minor": 2
}
