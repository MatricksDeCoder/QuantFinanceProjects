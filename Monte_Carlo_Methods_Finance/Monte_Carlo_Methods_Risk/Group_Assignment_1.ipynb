{
 "cells": [
  {
   "cell_type": "code",
   "execution_count": 1,
   "metadata": {},
   "outputs": [],
   "source": [
    "# Monte Carlo valuation of European Barrier Option\n",
    "# Barrier Option type is knock-out option/up and out \n",
    "# This option ceases to exist when price exceeds a barrier level L\n",
    "# The value of call option goes to 0 when S_t > L between 0 and T(maturity)"
   ]
  },
  {
   "cell_type": "code",
   "execution_count": 2,
   "metadata": {},
   "outputs": [],
   "source": [
    "# Import modules\n",
    "\n",
    "import random\n",
    "import numpy as np\n",
    "from scipy.stats import norm\n",
    "import matplotlib.pyplot as plt\n",
    "np.random.seed(0)"
   ]
  },
  {
   "cell_type": "code",
   "execution_count": 3,
   "metadata": {},
   "outputs": [],
   "source": [
    "# Market and modelling values and dynamics\n",
    "\n",
    "N           = [i*1000 for i in range(1,51)]      # sample sizes 1000,2000,3000....50,000\n",
    "dT          = 1/12                               # track share price monthly \n",
    "paths       = 1/dT                               # price observation points between (0,T]\n",
    "\n",
    "# Dynamics of market, share and European-up-and-out call option\n",
    "\n",
    "S_0         = 100                                # inital price of share price\n",
    "K           = 100                                # strike price \n",
    "L           = 150                                # up and out barrier level\n",
    "T           = 1                                  # time to maturity of option 1 year\n",
    "r           = 0.08                               # continously compounded risk free rate\n",
    "sigma_share = 0.3                                # the volatility of share \n",
    "\n",
    "\n",
    "# Counterparty firms dynamics\n",
    "\n",
    "V_0         = 200                                # initial firm value\n",
    "D           = 175                                # firm debt due in 1 year\n",
    "sigma_firm  = 0.25                               # the volatility of firm value \n",
    "r_r         = 0.25                               # the recovery rate with counterparty\n",
    "\n",
    "# Correlations share and firm \n",
    "\n",
    "corr        = 0.2                                # correlation between counterparty and underlying share\n",
    "corr_matrix = np.array([[1,corr],[corr,1]])      # correlation matrix stock and firm"
   ]
  },
  {
   "cell_type": "code",
   "execution_count": 4,
   "metadata": {},
   "outputs": [],
   "source": [
    "# Functions based on Merton Model, Black-Schooles, Risk Free Pricing, Payout dynamics option to help us value option \n",
    "\n",
    "def terminal_value(S_0,r, sigma, Z,T):\n",
    "    \"\"\"\n",
    "    model final price based on geometric brownian motion\n",
    "    \"\"\"\n",
    "    return S_0*(np.exp((r-sigma**2/2)*T + sigma*np.sqrt(T)*Z))\n",
    "\n",
    "# Function to generate share prices over time until final period e.g monthly here\n",
    "def share_path(S_0,r,sigma,Z,dT):\n",
    "    \"\"\"\n",
    "    Generates share prices given some random normal values (Z) \n",
    "    with adjustment of cumsum to capture share prices over time as \n",
    "    result of individual changes up to that point\n",
    "    \"\"\"\n",
    "    return S_0*np.exp(np.cumsum((r-sigma**2/2)*dT + sigma*np.sqrt(dT)*Z,1))\n",
    "\n",
    "def discounted_option_payoff(share_paths,K,L):\n",
    "    \n",
    "    \"\"\"\n",
    "    takes paths of share (monthly samples) over life of share \n",
    "    returns 0 if share price rises above L(barrier) during life of option\n",
    "    returns normall discounted call payoff at maturity if share price never exceed barrier value\n",
    "    \"\"\"    \n",
    "    if(np.any(share_paths>L)):\n",
    "        return 0\n",
    "    else:\n",
    "        return np.exp(-r*T)*np.maximum(share_paths[-1]-K,0) "
   ]
  },
  {
   "cell_type": "code",
   "execution_count": 6,
   "metadata": {},
   "outputs": [],
   "source": [
    "# Monte Carlo valuation without risk of default\n",
    "# Will use 50 different type of samples sizes in N (1000, 2000, 3000....)\n",
    "\n",
    "value_no_default     = [None]*50       # resulting call estimate values from valuation - storage\n",
    "std_no_default       = [None]*50       # resulting call estimate standard deviation - storage\n",
    "length_samples       = len(N)\n",
    "\n",
    "for i in range(length_samples):\n",
    "    \n",
    "    discounted_payoffs = [None]* N[i]    # create storage for N discounted payoff estimates\n",
    "    length_discounted_payoffs = len(discounted_payoffs)\n",
    "    \n",
    "    for j in range(length_discounted_payoffs):\n",
    "        \n",
    "        Z = norm.rvs(size = [1,12])\n",
    "        share_paths  = share_path(S_0,r,sigma_share,Z,dT) \n",
    "        call_payoffs = discounted_option_payoff(share_paths[0],K,L)\n",
    "        discounted_payoffs[j] = call_payoffs\n",
    "    \n",
    "    value_no_default[i] = np.mean(discounted_payoffs)\n",
    "    std_no_default[i]   = np.std(discounted_payoffs)/np.sqrt((i+1)*1000)    "
   ]
  },
  {
   "cell_type": "code",
   "execution_count": 7,
   "metadata": {},
   "outputs": [
    {
     "data": {
      "text/plain": [
       "[6.355104697066181,\n",
       " 6.519193201190645,\n",
       " 7.118037996720409,\n",
       " 6.751912450063174,\n",
       " 6.904138313267359,\n",
       " 6.6423754639015264,\n",
       " 6.85736269975937,\n",
       " 6.5825310947645,\n",
       " 6.8425624479618,\n",
       " 6.6886042483324095,\n",
       " 6.672168422039908,\n",
       " 6.614646475568443,\n",
       " 6.571953093752243,\n",
       " 6.872919471753316,\n",
       " 6.856134542564033,\n",
       " 6.797061270634421,\n",
       " 6.692519678398657,\n",
       " 6.728582738149918,\n",
       " 6.771816190992509,\n",
       " 6.614961560308601,\n",
       " 6.681220584399178,\n",
       " 6.664283231143742,\n",
       " 6.622032733434779,\n",
       " 6.659653050740702,\n",
       " 6.719544735838121,\n",
       " 6.635609353716034,\n",
       " 6.665294795124304,\n",
       " 6.79671125052401,\n",
       " 6.710242605764166,\n",
       " 6.8226788488551415,\n",
       " 6.714518533654017,\n",
       " 6.717621536477931,\n",
       " 6.779160919520906,\n",
       " 6.7574135575588805,\n",
       " 6.695633772902092,\n",
       " 6.7491300687341935,\n",
       " 6.6675397946249975,\n",
       " 6.685049580709251,\n",
       " 6.676729485180144,\n",
       " 6.711099249678032,\n",
       " 6.571306686110265,\n",
       " 6.75789742884904,\n",
       " 6.686545544523792,\n",
       " 6.5888169060675255,\n",
       " 6.724330887844371,\n",
       " 6.750233332526679,\n",
       " 6.737373713838008,\n",
       " 6.7067867163266435,\n",
       " 6.644965256500857,\n",
       " 6.696950565011853]"
      ]
     },
     "execution_count": 7,
     "metadata": {},
     "output_type": "execute_result"
    }
   ],
   "source": [
    "value_no_default"
   ]
  },
  {
   "cell_type": "code",
   "execution_count": 8,
   "metadata": {},
   "outputs": [
    {
     "data": {
      "text/plain": [
       "[0.3477028949905183,\n",
       " 0.24643094860196268,\n",
       " 0.21281182065661558,\n",
       " 0.1768746312445474,\n",
       " 0.15861764537560505,\n",
       " 0.14465109808561677,\n",
       " 0.13480518782838713,\n",
       " 0.12351330105894665,\n",
       " 0.11948086743726855,\n",
       " 0.1121533011353884,\n",
       " 0.1051132325559281,\n",
       " 0.10170952934346823,\n",
       " 0.09701732089543616,\n",
       " 0.09576572373026303,\n",
       " 0.09249162259241576,\n",
       " 0.08910818925889434,\n",
       " 0.08606029545901979,\n",
       " 0.08331109719467804,\n",
       " 0.08190398552357354,\n",
       " 0.07833941441806781,\n",
       " 0.07689093757875982,\n",
       " 0.07518433384504512,\n",
       " 0.07286147788280693,\n",
       " 0.07200859803521976,\n",
       " 0.07068614107423728,\n",
       " 0.06910041463216893,\n",
       " 0.06802461307041187,\n",
       " 0.0673434697265238,\n",
       " 0.06564852506411045,\n",
       " 0.06532525101034087,\n",
       " 0.06350498314791728,\n",
       " 0.06238864337161356,\n",
       " 0.061923627541866824,\n",
       " 0.06083245194975101,\n",
       " 0.059923182650788186,\n",
       " 0.05944705999760261,\n",
       " 0.058302395818541165,\n",
       " 0.05733987885030189,\n",
       " 0.0565291478816969,\n",
       " 0.055924054007423826,\n",
       " 0.054566755437506685,\n",
       " 0.05480125570666773,\n",
       " 0.05411787308085943,\n",
       " 0.05290245323321474,\n",
       " 0.052717137925964185,\n",
       " 0.05254618745008013,\n",
       " 0.051609178622525814,\n",
       " 0.05122465489726091,\n",
       " 0.05049521017440056,\n",
       " 0.0501183570371948]"
      ]
     },
     "execution_count": 8,
     "metadata": {},
     "output_type": "execute_result"
    }
   ],
   "source": [
    "std_no_default"
   ]
  },
  {
   "cell_type": "code",
   "execution_count": 50,
   "metadata": {},
   "outputs": [
    {
     "data": {
      "image/png": "[encoded data removed]",
      "text/plain": [
       "<Figure size 432x288 with 1 Axes>"
      ]
     },
     "metadata": {
      "needs_background": "light"
     },
     "output_type": "display_data"
    }
   ],
   "source": [
    "#  Plot valuation of European up and out option at various sample sizes N Monte Carlo valuation\n",
    "\n",
    "plt.plot(N,value_no_default,'.')\n",
    "plt.xlabel(\"Different Sample Sizes of N\")\n",
    "plt.ylabel(\"Value Barrier Option Without Default Risk  \")\n",
    "plt.show()"
   ]
  },
  {
   "cell_type": "code",
   "execution_count": 15,
   "metadata": {},
   "outputs": [],
   "source": [
    "# Monte Carlo valuation taking into account risk of default\n",
    "# Monte Carlo valuation taking into account correlation firm and share price\n",
    "# Monte Carlo valution for different sizes of N\n",
    "\n",
    "cva_estimates       = [None]*50   # storage - resulting CVA value at each sample size N\n",
    "std_estimates       = [None]*50   # storage - resulting standard deviation CVA at each sample size N\n",
    "valuations_temp     = [None]*50\n",
    "\n",
    "\n",
    "for i in range(length_samples):\n",
    "    \n",
    "    discounted_payoffs = [None]*N[i]     # create storage for N discounted payoff estimates\n",
    "    length_discounted_payoffs = len(discounted_payoffs)\n",
    "    \n",
    "    Z                   = norm.rvs(size =[2,(i+1)*1000])  \n",
    "    corr_norm_matrix    = np.matmul(np.linalg.cholesky(corr_matrix),Z)  \n",
    "   \n",
    "    for j in range(length_discounted_payoffs):\n",
    "        \n",
    "        Z      = norm.rvs(size = [1,12])\n",
    "        #Z_corr = np.matmul(np.linalg.cholesky(corr_matrix),Z)\n",
    "        \n",
    "        share_paths  = share_path(S_0,r,sigma_share,Z,dT) \n",
    "        call_payoffs = discounted_option_payoff(share_paths[0],K,L)\n",
    "        discounted_payoffs[j] = call_payoffs\n",
    "\n",
    "    call_value          = np.mean(discounted_payoffs)        \n",
    "    terminal_firm_value = terminal_value(V_0,r,sigma_firm,corr_norm_matrix[1],T)\n",
    "\n",
    "    amount_lost          = np.exp(-r*T)*(1-r_r)*(terminal_firm_value<D)*call_value\n",
    "    \n",
    "    cva_estimates[i]     = np.mean(amount_lost)\n",
    "    std_estimates[i]     = np.std(amount_lost)/np.sqrt((i+1)*1000)"
   ]
  },
  {
   "cell_type": "code",
   "execution_count": 16,
   "metadata": {},
   "outputs": [
    {
     "data": {
      "text/plain": [
       "[1.2329877091322266,\n",
       " 1.2124199951759036,\n",
       " 1.1283263226875087,\n",
       " 1.1054769215272544,\n",
       " 1.1449502653992498,\n",
       " 1.1695618899417057,\n",
       " 1.0604650292652469,\n",
       " 1.07391850354363,\n",
       " 1.1009446909921201,\n",
       " 1.0469089748193012,\n",
       " 1.1010923396327121,\n",
       " 1.0546189399206853,\n",
       " 1.0457990255688123,\n",
       " 1.0626785001806873,\n",
       " 1.0527929117263708,\n",
       " 1.0964115268547325,\n",
       " 1.066505856663138,\n",
       " 1.0889801281852762,\n",
       " 1.0303466079113155,\n",
       " 1.094467817175479,\n",
       " 1.0620830415656608,\n",
       " 1.1010408615570082,\n",
       " 1.0900721815900407,\n",
       " 1.0860993713015905,\n",
       " 1.0800008136973893,\n",
       " 1.0850573040943676,\n",
       " 1.098734279259945,\n",
       " 1.076357956261152,\n",
       " 1.0815136136586343,\n",
       " 1.1029668167409663,\n",
       " 1.0947291005770723,\n",
       " 1.1185468151409552,\n",
       " 1.070380318926923,\n",
       " 1.0902723516803674,\n",
       " 1.0911358045989301,\n",
       " 1.0994536996687787,\n",
       " 1.063819033535832,\n",
       " 1.0861841539701882,\n",
       " 1.1026205414470844,\n",
       " 1.0717707259163665,\n",
       " 1.0717985523870548,\n",
       " 1.0835846968072662,\n",
       " 1.0677370551780572,\n",
       " 1.08604469259416,\n",
       " 1.047872437412833,\n",
       " 1.0840598029818307,\n",
       " 1.0681456010934216,\n",
       " 1.0740515419926457,\n",
       " 1.0918923927856492,\n",
       " 1.0863159866056111]"
      ]
     },
     "execution_count": 16,
     "metadata": {},
     "output_type": "execute_result"
    }
   ],
   "source": [
    "cva_estimates"
   ]
  },
  {
   "cell_type": "code",
   "execution_count": 17,
   "metadata": {},
   "outputs": [
    {
     "data": {
      "text/plain": [
       "[0.06682074337830582,\n",
       " 0.046036013059669596,\n",
       " 0.03692853727737868,\n",
       " 0.031362291043686125,\n",
       " 0.028672486816345502,\n",
       " 0.026398591139818278,\n",
       " 0.023061308683772822,\n",
       " 0.022420283192698138,\n",
       " 0.020714301949234522,\n",
       " 0.019106817793677688,\n",
       " 0.019130632137273892,\n",
       " 0.01779525843715535,\n",
       " 0.016775265809420205,\n",
       " 0.016288611035504198,\n",
       " 0.015805553304498992,\n",
       " 0.015547179793788952,\n",
       " 0.014946642278649586,\n",
       " 0.014635654814571993,\n",
       " 0.013771065821269041,\n",
       " 0.013932197237830296,\n",
       " 0.0133169728786596,\n",
       " 0.013376429721455328,\n",
       " 0.012924694509003935,\n",
       " 0.01265059812063768,\n",
       " 0.01252331505052706,\n",
       " 0.012185556977786319,\n",
       " 0.012182449731756239,\n",
       " 0.011732861354132722,\n",
       " 0.011537129490649608,\n",
       " 0.01150116240400694,\n",
       " 0.011183072087542477,\n",
       " 0.011200950920237616,\n",
       " 0.010754408353281113,\n",
       " 0.010654284875147134,\n",
       " 0.010558290457103277,\n",
       " 0.010412333004709876,\n",
       " 0.010080795576313901,\n",
       " 0.009995510251257294,\n",
       " 0.010034382726294443,\n",
       " 0.009758302902331685,\n",
       " 0.009663775679653182,\n",
       " 0.009621280447644992,\n",
       " 0.009359266020065208,\n",
       " 0.009356911416563085,\n",
       " 0.009035400161259841,\n",
       " 0.009202429129622275,\n",
       " 0.008925439987878241,\n",
       " 0.008940945668569143,\n",
       " 0.00888312799916292,\n",
       " 0.008771666779831454]"
      ]
     },
     "execution_count": 17,
     "metadata": {},
     "output_type": "execute_result"
    }
   ],
   "source": [
    "std_estimates"
   ]
  },
  {
   "cell_type": "code",
   "execution_count": 18,
   "metadata": {},
   "outputs": [
    {
     "data": {
      "image/png": "[encoded data removed]",
      "text/plain": [
       "<Figure size 432x288 with 1 Axes>"
      ]
     },
     "metadata": {
      "needs_background": "light"
     },
     "output_type": "display_data"
    }
   ],
   "source": [
    "# Plots CVA estiamtes gainst various sample sizes\n",
    "\n",
    "plt.plot(N,cva_estimates,'.')\n",
    "plt.xlabel(\"Differnet Sample Sizes of N\")\n",
    "plt.ylabel(\"Monte Carlo Estimates Value Barrier Option With Default Risk \")\n",
    "plt.show()"
   ]
  },
  {
   "cell_type": "code",
   "execution_count": 20,
   "metadata": {},
   "outputs": [
    {
     "data": {
      "text/plain": [
       "[5.122116987933954,\n",
       " 5.306773206014741,\n",
       " 5.9897116740329,\n",
       " 5.646435528535919,\n",
       " 5.7591880478681095,\n",
       " 5.4728135739598205,\n",
       " 5.796897670494123,\n",
       " 5.50861259122087,\n",
       " 5.74161775696968,\n",
       " 5.6416952735131085,\n",
       " 5.571076082407195,\n",
       " 5.560027535647757,\n",
       " 5.5261540681834305,\n",
       " 5.810240971572629,\n",
       " 5.803341630837662,\n",
       " 5.700649743779689,\n",
       " 5.626013821735519,\n",
       " 5.639602609964642,\n",
       " 5.7414695830811935,\n",
       " 5.520493743133122,\n",
       " 5.619137542833517,\n",
       " 5.5632423695867335,\n",
       " 5.531960551844738,\n",
       " 5.573553679439112,\n",
       " 5.6395439221407315,\n",
       " 5.5505520496216665,\n",
       " 5.566560515864358,\n",
       " 5.720353294262858,\n",
       " 5.628728992105532,\n",
       " 5.719712032114176,\n",
       " 5.619789433076945,\n",
       " 5.599074721336976,\n",
       " 5.7087806005939825,\n",
       " 5.667141205878513,\n",
       " 5.6044979683031615,\n",
       " 5.649676369065415,\n",
       " 5.603720761089166,\n",
       " 5.598865426739063,\n",
       " 5.5741089437330595,\n",
       " 5.639328523761666,\n",
       " 5.499508133723211,\n",
       " 5.674312732041773,\n",
       " 5.618808489345735,\n",
       " 5.502772213473365,\n",
       " 5.676458450431538,\n",
       " 5.666173529544848,\n",
       " 5.6692281127445865,\n",
       " 5.632735174333998,\n",
       " 5.553072863715208,\n",
       " 5.610634578406241]"
      ]
     },
     "execution_count": 20,
     "metadata": {},
     "output_type": "execute_result"
    }
   ],
   "source": [
    "# Price/value European up and out option taking into account default risk Normal Price - CVA \n",
    "\n",
    "price = [value_no_default[i] - cva_estimates[i] for i in range(50)]\n",
    "price"
   ]
  },
  {
   "cell_type": "code",
   "execution_count": 21,
   "metadata": {},
   "outputs": [
    {
     "data": {
      "image/png": "[encoded data removed]",
      "text/plain": [
       "<Figure size 432x288 with 1 Axes>"
      ]
     },
     "metadata": {
      "needs_background": "light"
     },
     "output_type": "display_data"
    }
   ],
   "source": [
    "\n",
    "# Plots default risk adjusted price against various sample sizes\n",
    "\n",
    "plt.plot(N,price,'.')\n",
    "plt.xlabel(\"Differnet Sample Sizes of N\")\n",
    "plt.ylabel(\"Monte Carlo Estimates Value Barrier Option With Default Risk \")\n",
    "plt.show()"
   ]
  },
  {
   "cell_type": "code",
   "execution_count": null,
   "metadata": {},
   "outputs": [],
   "source": []
  }
 ],
 "metadata": {
  "kernelspec": {
   "display_name": "Python 3",
   "language": "python",
   "name": "python3"
  },
  "language_info": {
   "codemirror_mode": {
    "name": "ipython",
    "version": 3
   },
   "file_extension": ".py",
   "mimetype": "text/x-python",
   "name": "python",
   "nbconvert_exporter": "python",
   "pygments_lexer": "ipython3",
   "version": "3.7.3"
  }
 },
 "nbformat": 4,
 "nbformat_minor": 2
}
