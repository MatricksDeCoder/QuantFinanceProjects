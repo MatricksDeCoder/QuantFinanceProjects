{
 "cells": [
  {
   "cell_type": "code",
   "execution_count": 1,
   "metadata": {},
   "outputs": [],
   "source": [
    "# Calculation of VAR considering a simulation of potential dynamics of future stock prices in a portfolio using steps\n",
    "# 1. Determine dynamics of assets in portfolio\n",
    "# 2. Apply Monte_Carlo to simulate value of assets n_days into the future\n",
    "# 3. Determine portfolio value in each scenario\n",
    "# 4. Determing alpha value of the projected values"
   ]
  },
  {
   "cell_type": "code",
   "execution_count": 8,
   "metadata": {},
   "outputs": [],
   "source": [
    "# Import modules\n",
    "import numpy as np\n",
    "import numpy.matlib\n",
    "import math\n",
    "import random\n",
    "import matplotlib.pyplot as plt\n",
    "from scipy.stats import norm\n",
    "from scipy.stats import uniform\n"
   ]
  },
  {
   "cell_type": "code",
   "execution_count": 9,
   "metadata": {},
   "outputs": [],
   "source": [
    "# Share information based on share dynamics example 3 stocks in portfolio\n",
    "S_0_0   = 100 # first share price starting value\n",
    "S_0_1   = 95  # second share price starting value\n",
    "S_0_2   = 50  # third share price starting value\n",
    "S_0     = np.array([[S_0_0],[S_0_1],[S_0_2]]) # array of initial start value assets in portfolio\n",
    "\n",
    "# Volatilities of each share\n",
    "sigma_0 = 0.15 # first share volatility\n",
    "sigma_1 = 0.2  # second share volatility\n",
    "sigma_2 = 0.3  # third share volatility\n",
    "sigma   = np.array([[sigma_0], [sigma_1], [sigma_2]])\n",
    "\n",
    "# Interdependancies asset values captured by correlation matrix \n",
    "corr_matrix = np.array([[1,0.2,0.4],[0.2,1,0.8],[0.4,0.8,1]])\n",
    "\n",
    "# Cholesky decomposition LL' = corr_matrix\n",
    "L = np.linalg.cholesky(corr_matrix)\n",
    "\n",
    "# General information\n",
    "r = 0.1 # risk free interest rate\n",
    "T = 1   # considering a 1 year period"
   ]
  },
  {
   "cell_type": "code",
   "execution_count": 10,
   "metadata": {},
   "outputs": [],
   "source": [
    "# Considerations and assumptions for VAR calculations\n",
    "# Assume here stock prices follow geometric brownian motion - can use different\n",
    "# Assume holdings of 1 units of asset - can assume something else\n",
    "np.random.seed(0)\n",
    "num_simulations      = 10000\n",
    "alpha                = 0.05 #alpha value considered here is 5% (probablity)\n",
    "curr_portfolio_value = np.sum(S_0) #current starting portfolio value\n",
    "\n",
    "def terminal_share_price(S_0,r, sigma, T,Z):\n",
    "    \"\"\"\n",
    "    model final stock prices based on geometric brownian motion, fixed holdings in each asset that dont change,\n",
    "    and Z which in this case is correlated multivariate normal sample\n",
    "    \"\"\"\n",
    "    return S_0*(np.exp((r-sigma**2/2)*T + sigma*np.sqrt(T)*Z))\n"
   ]
  },
  {
   "cell_type": "code",
   "execution_count": 12,
   "metadata": {},
   "outputs": [
    {
     "data": {
      "text/plain": [
       "(3, 10000)"
      ]
     },
     "execution_count": 12,
     "metadata": {},
     "output_type": "execute_result"
    }
   ],
   "source": [
    "# Calculation of Z the multivariate normal sample of values \n",
    "uncorr_normal_sample = norm.rvs(size = [3, num_simulations]) # N(0,1) variables for number simulations = num_simulations\n",
    "corr_normal_sample   = np.matmul(L,uncorr_normal_sample)\n",
    "Z                    = corr_normal_sample\n",
    "np.shape(Z)"
   ]
  },
  {
   "cell_type": "code",
   "execution_count": 14,
   "metadata": {},
   "outputs": [
    {
     "data": {
      "text/plain": [
       "array([223.37503515, 320.06612466, 314.37082555, ..., 316.58652258,\n",
       "       272.41216774, 201.22465491])"
      ]
     },
     "execution_count": 14,
     "metadata": {},
     "output_type": "execute_result"
    }
   ],
   "source": [
    "# Portfolio value future \n",
    "future_portfolio_value = np.sum(terminal_share_price(S_0,r,sigma,T,Z), axis = 0)\n",
    "future_portfolio_value"
   ]
  },
  {
   "cell_type": "code",
   "execution_count": 22,
   "metadata": {},
   "outputs": [
    {
     "data": {
      "text/plain": [
       "0.15890346110434664"
      ]
     },
     "execution_count": 22,
     "metadata": {},
     "output_type": "execute_result"
    }
   ],
   "source": [
    "# Calculation of VAR using Monte Carlo\n",
    "# 1. Calculate expected portfolio returns from the simulations\n",
    "# 2. Sort the returns to find smallest portfolio returns\n",
    "# 3. Determin VAR as the alpha quantile in our case alpha = 0.05\n",
    "\n",
    "portfolio_return = (future_portfolio_value - curr_portfolio_value) / curr_portfolio_value\n",
    "\n",
    "# sorting portfolio returns\n",
    "portfolio_return = np.sort(portfolio_return)\n",
    "\n",
    "# Determination of VAR\n",
    "alpha_percentile_pos  =  int(np.floor(alpha*num_simulations))-1 # position in array of portfolio returnes based on percentile\n",
    "VAR_estimate          = -1* portfolio_return[alpha_percentile_pos]\n",
    "VAR_estimate"
   ]
  },
  {
   "cell_type": "code",
   "execution_count": null,
   "metadata": {},
   "outputs": [],
   "source": []
  }
 ],
 "metadata": {
  "kernelspec": {
   "display_name": "Python 3",
   "language": "python",
   "name": "python3"
  },
  "language_info": {
   "codemirror_mode": {
    "name": "ipython",
    "version": 3
   },
   "file_extension": ".py",
   "mimetype": "text/x-python",
   "name": "python",
   "nbconvert_exporter": "python",
   "pygments_lexer": "ipython3",
   "version": "3.7.3"
  }
 },
 "nbformat": 4,
 "nbformat_minor": 2
}
