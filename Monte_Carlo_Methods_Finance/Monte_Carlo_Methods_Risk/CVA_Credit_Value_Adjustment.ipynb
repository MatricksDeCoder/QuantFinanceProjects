{
 "cells": [
  {
   "cell_type": "code",
   "execution_count": 64,
   "metadata": {},
   "outputs": [],
   "source": [
    "# CVA Credit Value Adjustment example  using Merton model of firm valuation and default of Debt\n",
    "# Credit Value Adjustment takes into account counterparty risk/default risk e.g OTC tradeds in options etc\n",
    "# Largely developed from Exposure E(t) = max(V(t),0) what you stand to lose at time t based on value of your portfolio\n",
    "# CVA measures the market value of the counterparty credit risk\n",
    "# When using the Merton model we use similar assumptions as Black Scholes serve of that of risk ofno default\n",
    "# Maximum amount firm can pay towards debt can be considered as a put optionon value of firm with strike price Debt value \n",
    "# Mostly assume default by counterparty happens at expiry T of contract\n",
    "# Assets normally simulated using normal distribution\n",
    "# We can consider or ignore correlations between firm value and value of protfolio "
   ]
  },
  {
   "cell_type": "code",
   "execution_count": 65,
   "metadata": {},
   "outputs": [],
   "source": [
    "# import modules\n",
    "import numpy as np\n",
    "from scipy.stats import norm\n",
    "import matplotlib.pyplot as plt\n",
    "import random\n",
    "np.random.seed(0)"
   ]
  },
  {
   "cell_type": "code",
   "execution_count": 66,
   "metadata": {},
   "outputs": [],
   "source": [
    "# Market information for our example \n",
    "# Suppose you hold a call option with info below\n",
    "S_0   = 100 # Initial stock price\n",
    "sigma_asset = 0.3 # volatility stock price\n",
    "r     = 0.1 # continouslu compounded risk free interest rate\n",
    "K     = 110 # Strike price of call option\n",
    "T     = 1   # Time to maturity\n",
    "\n",
    "# Counterparty to your call option dynamics\n",
    "V_0   = 200  # current valuation of firm\n",
    "sigma_firm = 0.25 # volatility of valuation of firm\n",
    "D     = 180  # Debt of the company  owned in one year \n",
    "r_r   = 0.2  # recovery rate fraction of what you owed that you can receive in case of default\n",
    "T     = 1"
   ]
  },
  {
   "cell_type": "code",
   "execution_count": 67,
   "metadata": {},
   "outputs": [],
   "source": [
    "# Functions for valuations\n",
    "def terminal_value(S_0,r,sigma,Z,T):\n",
    "    \"\"\"\"\n",
    "    Takes the initial asset/stock price in portfolio, risk free rate, volatilty of stock/asset, Z-normal distributed\n",
    "    random variables, T-time to maturity and returns potential terminal value/value asset stock at time T\n",
    "    Used to model terminal value of stock and firm value\n",
    "    \"\"\"\n",
    "    return S_0*np.exp((r-sigma**2/2)*T + sigma*np.sqrt(T)*Z)\n",
    "\n",
    "def call_pay_off(S_T,K):\n",
    "    \"\"\"\n",
    "    takes the potential terminal value(s) at time T and strike price and returns payoff at time T\n",
    "    \"\"\"\n",
    "    return np.maximum(S_T-K,0)"
   ]
  },
  {
   "cell_type": "code",
   "execution_count": 68,
   "metadata": {},
   "outputs": [],
   "source": [
    "# Create an array of values between -1,1 to test various correlations between firm and portfolio value\n",
    "# We will generate various CVA values for different correlation dynamics\n",
    "corr_tested   = np.linspace(-1,1,21)\n",
    "cva_estimates = [None]*len(corr_tested)\n",
    "cva_std       = [None]*len(corr_tested)"
   ]
  },
  {
   "cell_type": "code",
   "execution_count": 70,
   "metadata": {},
   "outputs": [],
   "source": [
    "# Running Monte Carlo estimation using 50,000 sample size for both firm value and stock prices\n",
    "# Take into account when there is correlation is not 1 and -1 we applycholesky decomposition to corr_matrix\n",
    "\n",
    "for i in range(len(corr_tested)):\n",
    "    \n",
    "    correlation = corr_tested[i]\n",
    "    \n",
    "    if (correlation == 1 or correlation == -1):\n",
    "        norm_vec_0  = norm.rvs(size = 50000)\n",
    "        norm_vec_1  = correlation*norm_vec_0\n",
    "        corr_matrix = np.array([norm_vec_0,norm_vec_1])\n",
    "        \n",
    "    else:\n",
    "        corr_matrix = np.array([[1,correlation],[correlation,1]])\n",
    "        norm_matrix = norm.rvs(size = np.array([2,50000]))\n",
    "        corr_norm_matrix = np.matmul(np.linalg.cholesky(corr_matrix),norm_matrix)\n",
    "    \n",
    "    terminal_asset_value = terminal_value(S_0,r,sigma_asset,corr_norm_matrix[0,],T)\n",
    "    terminal_firm_value  = terminal_value(V_0,r,sigma_firm,corr_norm_matrix[1,],T)\n",
    "    call_value_asset     = call_pay_off(terminal_asset_value,K)\n",
    "    amount_lost          = np.exp(-r*T)*(1-r_r)*(terminal_firm_value<D)*call_value_asset\n",
    "    \n",
    "    cva_estimates[i]     = np.mean(amount_lost)\n",
    "    cva_std[i]           = np.std(amount_lost)/np.sqrt(50000)"
   ]
  },
  {
   "cell_type": "code",
   "execution_count": 74,
   "metadata": {},
   "outputs": [],
   "source": [
    "# Calculation of CVA assuming zero correlation between asset/portfolio value and firm value\n",
    "# For above case we make use of (1-recovery_rate)*Call_Price*norm.cdf(-d2) ..(1-r_r)*Xo*norm.cdf(-d_2)\n",
    "# norm.cdf(-d_2) if the probability of debt default by firm to give [(1-r_r)*Call_Price*default_probability]\n",
    "\n",
    "d_1 = (np.log(V_0/D) + (r+sigma_firm**2/2)*T)/sigma_firm*np.sqrt(T)\n",
    "d_2 = d_1 - sigma_firm*np.sqrt(T)\n",
    "default_probability = norm.cdf(-d_2)\n",
    "\n",
    "# Analytic solution for European Call Option\n",
    "d_1_stock = (np.log(S_0/K) + (r+sigma_asset**2/2)*T)/sigma_asset*np.sqrt(T)\n",
    "d_2_stock = d_1_stock - sigma_asset*np.sqrt(T)\n",
    "\n",
    "analytic_call_price = S_0*norm.cdf(d_1_stock) - K*np.exp(-r*T)*norm.cdf(d_2_stock)\n",
    "\n",
    "# Calculate uncorrelated CVA using above inputs\n",
    "uncorr_CVA  = (1-r_r)*analytic_call_price*default_probability"
   ]
  },
  {
   "cell_type": "code",
   "execution_count": 79,
   "metadata": {},
   "outputs": [
    {
     "data": {
      "image/png": "[encoded data removed]",
      "text/plain": [
       "<Figure size 432x288 with 1 Axes>"
      ]
     },
     "metadata": {
      "needs_background": "light"
     },
     "output_type": "display_data"
    }
   ],
   "source": [
    "# Plot CVA values at different correlation levels\n",
    "plt.plot(corr_tested,[uncorr_CVA]*21)\n",
    "plt.plot(corr_tested,cva_estimates,'.')\n",
    "plt.plot(corr_tested,cva_estimates + 3* np.array(cva_std))\n",
    "plt.plot(corr_tested,cva_estimates - 3* np.array(cva_std))\n",
    "plt.show()"
   ]
  }
 ],
 "metadata": {
  "kernelspec": {
   "display_name": "Python 3",
   "language": "python",
   "name": "python3"
  },
  "language_info": {
   "codemirror_mode": {
    "name": "ipython",
    "version": 3
   },
   "file_extension": ".py",
   "mimetype": "text/x-python",
   "name": "python",
   "nbconvert_exporter": "python",
   "pygments_lexer": "ipython3",
   "version": "3.7.3"
  }
 },
 "nbformat": 4,
 "nbformat_minor": 2
}
